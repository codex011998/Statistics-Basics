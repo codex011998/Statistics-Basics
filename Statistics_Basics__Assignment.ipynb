{
  "nbformat": 4,
  "nbformat_minor": 0,
  "metadata": {
    "colab": {
      "provenance": []
    },
    "kernelspec": {
      "name": "python3",
      "display_name": "Python 3"
    },
    "language_info": {
      "name": "python"
    }
  },
  "cells": [
    {
      "cell_type": "markdown",
      "source": [
        "**Question 1:** What is the difference between descriptive statistics and inferential statistics? Explain with examples?\n",
        " - **Answer** 1: In my point of view, descriptive statistics and inferential statistics are two main branches of statistics, but they serve different purposes. Descriptive statistics is about presenting and summarizing the data that I already have in a simple and understandable form. It helps me to describe the main features of the data set without making any predictions. **For example**, if I collect the marks of my classmates and calculate the average, median, or range, or if I prepare a graph or chart to show their performance, I am simply using descriptive statistics. It tells me exactly what the data says but does not go beyond it.\n",
        "Inferential statistics, on the other hand, is about drawing conclusions and making predictions about a larger population based on the sample of data I have. It uses probability, hypothesis testing, confidence intervals, and regression to make decisions. **For example**, if I take the marks of only 30 students from my college and then try to predict the average marks of all students in the college, I am applying inferential statistics. It allows me to generalize results from a small sample to a bigger group.\n",
        "So, as I understand, descriptive statistics explains what the data shows, while inferential statistics helps me to predict and conclude about a population using sample data."
      ],
      "metadata": {
        "id": "4LJ2NRhhVPd9"
      }
    },
    {
      "cell_type": "markdown",
      "source": [
        "**Question 2:** What is sampling in statistics? Explain the differences between random and stratified sampling.\n",
        " - **Answer 2:** In my point of view, sampling in statistics is a method of selecting a smaller group from a larger population in order to study and analyze it. Since it is usually not possible to collect data from the entire population because of time, cost, and effort, sampling helps me to gather useful information by studying only a part of the population. The main purpose of sampling is to draw valid conclusions about the whole population based on data from the selected sample.\n",
        "There are different types of sampling methods, and two of the most common are random sampling and stratified sampling. In random sampling, every individual or unit in the population has an equal chance of being selected. For example, if I want to study the eating habits of students in my college and I randomly pick 50 students without any bias, then I am using random sampling. It is simple and reduces bias but may not always give equal representation of all groups.\n",
        "Stratified sampling, on the other hand, divides the population into different groups or strata based on certain characteristics like gender, age, or income. Then I take random samples from each stratum. For example, if I want to study students’ eating habits, I can divide them into male and female groups and then select randomly from each group. This method ensures better representation of all categories"
      ],
      "metadata": {
        "id": "mOC9_7aCVxG6"
      }
    },
    {
      "cell_type": "markdown",
      "source": [
        "**Question 3:** Define mean, median, and mode. Explain why these measures of central tendency are important.\n",
        " - **Answer 3 :** In my point of view, mean, median, and mode are the three most common measures of central tendency used in statistics to describe data. They help me to identify a single representative value around which the data is centered.\n",
        "\n",
        "The **mean** is the arithmetic average of a set of values. To calculate it, I add up all the observations and then divide by the total number of observations. For example, if the marks of five students are 10, 20, 30, 40, and 50, the mean is (10+20+30+40+50)/5 = 30.\n",
        "\n",
        "The **median** is the middle value of the data when it is arranged in ascending or descending order. If there is an even number of observations, then the median is the average of the two middle values. For example, in the data set 5, 10, 15, 20, 25, the median is 15.\n",
        "\n",
        "The **mode** is the value that appears most frequently in the data set. For example, in the series 2, 3, 3, 4, 5, the mode is 3.\n",
        "These measures are important because they help me to summarize a large amount of data into one representative value. The mean shows the overall average, the median gives the central position and is less affected by extreme values, while the mode highlights the most common value. Together, they make data easier to understand and interpret."
      ],
      "metadata": {
        "id": "AUTAF9mKWTZQ"
      }
    },
    {
      "cell_type": "markdown",
      "source": [
        "**Question 4:** Explain skewness and kurtosis. What does a positive skew imply about the data?\n",
        "- **Answer 4 :** In my point of view, skewness and kurtosis are two statistical concepts that describe the shape and distribution of data. They help me to understand whether the data is symmetric, stretched, or concentrated in a certain way.\n",
        "**Skewness** measures the degree of asymmetry in a data distribution. If the data is perfectly symmetric, like in a normal distribution, the skewness is zero. When the distribution is not balanced, it shows skewness. A** positive skew** means the data has a longer tail on the right side, and most values are concentrated on the left. For example, income data often shows a positive skew because a small number of people earn extremely high salaries, which pull the average upward. A **negative skew**, on the other hand, means the tail is longer on the left side.\n",
        "**Kurtosis** measures the “peakedness” or flatness of a distribution compared to the normal curve. High kurtosis indicates heavy tails and sharp peaks, meaning more extreme values are present. Low kurtosis means the distribution is flatter with fewer outliers.\n",
        "A **positive skew** implies that the majority of observations are lower than the mean, but a few extremely high values stretch the distribution to the right. This means the mean will usually be greater than the median.\n",
        "Therefore, skewness and kurtosis together give me deeper insight into how data is distributed beyond just averages."
      ],
      "metadata": {
        "id": "pa0S9NKvW-Wu"
      }
    },
    {
      "cell_type": "code",
      "execution_count": 2,
      "metadata": {
        "colab": {
          "base_uri": "https://localhost:8080/"
        },
        "id": "_zf-CvTrVBbM",
        "outputId": "2246f136-a75c-40fe-e6cb-bd5350aaeb74"
      },
      "outputs": [
        {
          "output_type": "stream",
          "name": "stdout",
          "text": [
            "Mean: 19.6\n",
            "Median: 19\n",
            "Mode: 12\n"
          ]
        }
      ],
      "source": [
        "# Question 5: Implement a Python program to compute the mean, median, and mode of a given list of numbers. numbers = [12, 15, 12, 18, 19, 12, 20, 22, 19, 19, 24, 24, 24, 26, 28] (Include your Python code and output in the code box below.)\n",
        "\n",
        "# Answer : Python makes it very simple to calculate mean, median, and mode by using the built-in statistics module. The mean will give me the average of the list, the median will tell me the middle value, and the mode will give the most repeated number.\n",
        "# Here is my code and output:\n",
        "import statistics\n",
        "\n",
        "# Given list of numbers\n",
        "numbers = [12, 15, 12, 18, 19, 12, 20, 22, 19, 19, 24, 24, 24, 26, 28]\n",
        "\n",
        "# Calculating mean, median, and mode\n",
        "mean_value = statistics.mean(numbers)\n",
        "median_value = statistics.median(numbers)\n",
        "mode_value = statistics.mode(numbers)\n",
        "\n",
        "print(\"Mean:\", mean_value)\n",
        "print(\"Median:\", median_value)\n",
        "print(\"Mode:\", mode_value)\n",
        "\n"
      ]
    },
    {
      "cell_type": "code",
      "source": [
        "# Question 6: Compute the covariance and correlation coefficient between the following two datasets provided as lists in Python:\n",
        "\n",
        "list_x = [10, 20, 30, 40, 50]\n",
        "list_y = [15, 25, 35, 45, 60]\n",
        "\n",
        "# Answer:covariance and correlation coefficient are two important statistical tools that show the relationship between two datasets.Covariance tells me the direction of the relationship. If covariance is positive, it means when one variable increases, the other also increases. If it is negative, it means one increases while the other decreases.Correlation coefficient (often denoted as r) not only shows the direction but also the strength of the relationship, ranging between -1 and +1.\n",
        "# In Python, I can use the numpy library to calculate both values easily.\n",
        "# Here is my code and output:\n",
        "import numpy as np\n",
        "\n",
        "# Given lists\n",
        "list_x = [10, 20, 30, 40, 50]\n",
        "list_y = [15, 25, 35, 45, 60]\n",
        "\n",
        "# Covariance matrix\n",
        "cov_matrix = np.cov(list_x, list_y, bias=False)\n",
        "covariance = cov_matrix[0, 1]\n",
        "\n",
        "# Correlation coefficient\n",
        "correlation = np.corrcoef(list_x, list_y)[0, 1]\n",
        "\n",
        "print(\"Covariance:\", covariance)\n",
        "print(\"Correlation Coefficient:\", correlation)\n"
      ],
      "metadata": {
        "colab": {
          "base_uri": "https://localhost:8080/"
        },
        "id": "zJax0gXMYPSa",
        "outputId": "02e8b042-8738-42a9-b3c4-a6a66241cd23"
      },
      "execution_count": 3,
      "outputs": [
        {
          "output_type": "stream",
          "name": "stdout",
          "text": [
            "Covariance: 275.0\n",
            "Correlation Coefficient: 0.995893206467704\n"
          ]
        }
      ]
    },
    {
      "cell_type": "code",
      "source": [
        "# Question 7: Write a Python script to draw a boxplot for the following numeric list and identify its outliers. Explain the result:\n",
        "\n",
        "#  data = [12, 14, 14, 15, 18, 19, 19, 21, 22, 22, 23, 23, 24, 26, 29, 35]\n",
        "\n",
        "#  Answer: A boxplot is a very useful graphical tool in statistics to visualize the distribution of data. It shows the minimum, first quartile (Q1), median, third quartile (Q3), and maximum values. It also helps me to quickly identify any outliers, which are data points lying unusually far from the rest.\n",
        "#  In Python, I can use the matplotlib library to draw a boxplot for the given data:\n",
        "import matplotlib.pyplot as plt\n",
        "\n",
        "# Given data\n",
        "data = [12, 14, 14, 15, 18, 19, 19, 21, 22, 22, 23, 23, 24, 26, 29, 35]\n",
        "\n",
        "# Drawing the boxplot\n",
        "plt.boxplot(data)\n",
        "plt.title(\"Boxplot of Given Data\")\n",
        "plt.show()\n"
      ],
      "metadata": {
        "colab": {
          "base_uri": "https://localhost:8080/",
          "height": 452
        },
        "id": "2gQz-qlUZQAe",
        "outputId": "6da55893-025d-429a-e0e3-5c062ec36aed"
      },
      "execution_count": 4,
      "outputs": [
        {
          "output_type": "display_data",
          "data": {
            "text/plain": [
              "<Figure size 640x480 with 1 Axes>"
            ],
            "image/png": "[encoded data removed]"
          },
          "metadata": {}
        }
      ]
    },
    {
      "cell_type": "code",
      "source": [
        "# Question 8: You are working as a data analyst in an e-commerce company. The marketing team wants to know if there is a relationship between advertising spend and daily sales.\n",
        "# Explain how you would use covariance and correlation to explore this relationship.\n",
        "# Write Python code to compute the correlation between the two lists:\n",
        "\n",
        "#   advertising_spend = [200, 250, 300, 400, 500]\n",
        "#  daily_sales = [2200, 2450, 2750, 3200, 4000]\n",
        "\n",
        "#  Answer:In my point of view, to understand the relationship between advertising spend and daily sales, I would start by computing covariance and correlation. Covariance tells me whether the two variables move together or in opposite directions. If the covariance is positive, it means that when advertising spend increases, sales also tend to increase. If it is negative, sales decrease when advertising increases. However, covariance does not tell me the strength of the relationship.Correlation coefficient gives me both the direction and the strength of the relationship. It always lies between -1 and +1. A value close to +1 indicates a strong positive relationship, while a value close to -1 indicates a strong negative relationship.\n",
        "# Here is my Python code to calculate correlation:\n",
        "\n",
        "import numpy as np\n",
        "\n",
        "advertising_spend = [200, 250, 300, 400, 500]\n",
        "daily_sales = [2200, 2450, 2750, 3200, 4000]\n",
        "\n",
        "# Correlation coefficient\n",
        "correlation = np.corrcoef(advertising_spend, daily_sales)[0, 1]\n",
        "print(\"Correlation Coefficient:\", correlation)\n"
      ],
      "metadata": {
        "colab": {
          "base_uri": "https://localhost:8080/"
        },
        "id": "bVQRnRocaUKE",
        "outputId": "74bde5f7-1ba9-4f81-87ba-efef1f0bb471"
      },
      "execution_count": 6,
      "outputs": [
        {
          "output_type": "stream",
          "name": "stdout",
          "text": [
            "Correlation Coefficient: 0.9935824101653329\n"
          ]
        }
      ]
    },
    {
      "cell_type": "code",
      "source": [
        "#  Question 9:Your team has collected customer satisfaction survey data on a scale of 1–10 and wants to understand its distribution before launching a new product.Explain which summary statistics and visualizations (e.g. mean, standard deviation, histogram) you’d use.\n",
        "#  Write Python code to create a histogram using Matplotlib for the survey data:\n",
        "#    survey_scores = [7, 8, 5, 9, 6, 7, 8, 9, 10, 4, 7, 6, 9, 8, 7]\n",
        "\n",
        "\n",
        "# Answer: In my point of view, before launching a new product, it is important to analyze the distribution of customer satisfaction scores. The first step would be to calculate summary statistics such as:\n",
        "# Mean: to find the average customer rating.\n",
        "# Median: to understand the central tendency and avoid distortion from extreme scores.\n",
        "# Mode: to know the most common rating.\n",
        "# Standard deviation: to measure how spread out the scores are around the mean.\n",
        "#For visual analysis, a histogram is the best option because it shows how frequently each score occurs. It will clearly highlight whether most customers gave high ratings (positive feedback) or if the responses are more spread out. Here is my Python code for creating a histogram:\n",
        "\n",
        "import matplotlib.pyplot as plt\n",
        "\n",
        "survey_scores = [7, 8, 5, 9, 6, 7, 8, 9, 10, 4, 7, 6, 9, 8, 7]\n",
        "\n",
        "plt.hist(survey_scores, bins=6, edgecolor='black')\n",
        "plt.title(\"Histogram of Customer Satisfaction Scores\")\n",
        "plt.xlabel(\"Satisfaction Score (1-10)\")\n",
        "plt.ylabel(\"Frequency\")\n",
        "plt.show()\n"
      ],
      "metadata": {
        "colab": {
          "base_uri": "https://localhost:8080/",
          "height": 472
        },
        "id": "6ejMSZAlbGR5",
        "outputId": "15bf1b8b-ccda-4944-f8fb-b2f89b5c6955"
      },
      "execution_count": 7,
      "outputs": [
        {
          "output_type": "display_data",
          "data": {
            "text/plain": [
              "<Figure size 640x480 with 1 Axes>"
            ],
            "image/png": "[encoded data removed]"
          },
          "metadata": {}
        }
      ]
    },
    {
      "cell_type": "code",
      "source": [],
      "metadata": {
        "id": "aNE6VlUebziG"
      },
      "execution_count": null,
      "outputs": []
    }
  ]
}